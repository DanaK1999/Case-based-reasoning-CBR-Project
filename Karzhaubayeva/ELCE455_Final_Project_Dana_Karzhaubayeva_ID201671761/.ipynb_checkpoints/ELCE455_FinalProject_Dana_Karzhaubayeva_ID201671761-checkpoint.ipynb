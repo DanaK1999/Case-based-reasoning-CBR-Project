{
 "cells": [
  {
   "cell_type": "markdown",
   "id": "a371d8db",
   "metadata": {},
   "source": [
    " # The Working Principles and Implementation of Case-Based Reasoning Classifier (Fundamental Research)\n",
    "\n",
    "Author: Dana Karzhaubayeva\n",
    "\n",
    "ID number: 201671761"
   ]
  },
  {
   "cell_type": "markdown",
   "id": "caf59f04",
   "metadata": {},
   "source": [
    "# Abstract"
   ]
  },
  {
   "cell_type": "markdown",
   "id": "3d188665",
   "metadata": {},
   "source": [
    "Case-based reasoning (CBR) is one of the classification methods used in machine learning. The main idea of CBR is to use existing solutions to problems to solve similar cases. In other words, the principle of CBR is to find the most suitable solution depending on comparing new and previous cases. In this Fundamental Research project, we described how case-based reasoning works in detail with its mathematics, determined hybrid CBR with other machine learning tools, preference-based and conversational types of CBR, and tried to solve a problem example using that method. As a result, the case-based reasoning classifier was implemented successfully and solved the given problem based on previous cases database.  "
   ]
  },
  {
   "cell_type": "markdown",
   "id": "857b4e62",
   "metadata": {},
   "source": [
    "# Introduction"
   ]
  },
  {
   "cell_type": "markdown",
   "id": "e2087560",
   "metadata": {},
   "source": [
    "## Case-based reasoning (CBR)"
   ]
  },
  {
   "cell_type": "markdown",
   "id": "27a347f8",
   "metadata": {},
   "source": [
    "Case-based reasoning or CBR is one of the *lazy learners* or *instance-based* methods of classification used in machine learning. Case-based classifier stores training tuples - \"cases\", in the format of complex symbolic descriptions and use previous problem solutions to solve new problems [5]. \n",
    "\n",
    "The main difference between case-based reasoning and other reasoning types is that solution of the previous problem may not be identical to a solution to a new problem. In other words, the solution of the previous case may only be \"*similar*\" or \"*close*\" to the new case solution, which means that case-based reasoning application is a type of approximate reasoning. [7].\n",
    "\n",
    "The central idea behind CBR is that *similar problems have similar solutions*. [4]. This similarity concept in CBR refers to the notion of \"most suitable\" or \"very useful\" solutions in finding and using the required one to the new problem from a database of previous cases. Finding a \"most suitable\" or \"very useful\" solution based on comparing new and previous cases is called *similarity assessment*. The comparison consists of *local similarity* and *global similarity* [7].\n",
    "\n",
    "The local similarity is between values of attributes (features) between old and new cases [7]. The global similarity is the overall similarity or summation of local similarities multiplied by a weight of each attribute [8].\n",
    "\n",
    "In a CBR process, after selecting similar cases, their solutions are modified to be the new case solution. Then by detecting an optimal solution to the new problem, a new experience is created. Finally, that new experience is stored in the database of cases solutions for future use, which realize training behaviour [8]. \n",
    "\n",
    "CBR has many models which describe its working principles and give a better understanding of the method. For instance, the CBR cycle described by Kolodner and Leake is based on the concept of remembering and adapting. While Aamodt and Plaza's CBR cycle, also called R4, includes retrieve, reuse, revise, and retain processes [4]."
   ]
  },
  {
   "cell_type": "markdown",
   "id": "64b2fee0",
   "metadata": {},
   "source": [
    "## Preferance-based CBR"
   ]
  },
  {
   "cell_type": "markdown",
   "id": "8a69258f",
   "metadata": {},
   "source": [
    "Preference-based CBR or Pref-CBR methodology determines solving case-based reasoning problems according to preferences. The difference between the traditional CBR method and preference-based is presenting the problem's solution in the format of \"$y$ is better solution for x than $y'$\" instead of \"$y$ is an optimal solution for $x$\" in usual CBR [3].\n",
    "\n",
    "In case of Pref-CBR, a $x$ problem will be solved by $y$ and $y'$ solutions and then compared with each other. As result, there will be the following outcomes:\n",
    "\n",
    "1) $y$ > $y'$, if $y$ ≥ $y'$ and $y'$ ⋡ $y$\n",
    "\n",
    "2) $y$ ∼ $y\"$, if $y$ ≥ $y'$ and $y'$ ≥ $y$ .\n",
    "\n",
    "where ≥ is a weak preference, > is a strict preference and ∼ is indifference [3].\n",
    "\n",
    "Preference-based CBR includes retrieval, prediction, evaluation and indirect supervision steps. The working principles and mathematical models also will be discussed in the following sections [3].\n",
    "\n",
    "In addition, the experiment results shown in Figure 1 [3] illustrates that KNN performs better than Pref-CBR, which was expected because KNN has access to a real solution, while preference-based CBR has access only to solutions based on pairwise comparisons. However, the performance of Pref-CBR becomes better due to an increase in preferences number per case.\n",
    "\n",
    "<img align=\"middle\"  src=\"images/Pref_CBR_Experiment.png\"/> \n",
    "                                    \n",
    "                     Figure 1. Performance curves from experiment. Dashed lines as 3NN, solid as Pref-CBR [3]"
   ]
  },
  {
   "cell_type": "markdown",
   "id": "64b260fb",
   "metadata": {},
   "source": [
    "## Conversational CBR"
   ]
  },
  {
   "cell_type": "markdown",
   "id": "39304503",
   "metadata": {},
   "source": [
    "Conversational CBR or CCBR is an extended interactive form type of case-based reasoning. Conversational CBR or CCBR is an extended interactive form type of case-based reasoning. The CCBR applies a question-answer sequence to create mixed-initiative dialogue, which helps find cases. From this information, the difference between usual CBR and CCBR is that traditional CBR finds cases based on a given well-defined problem description, while CCBR finds cases by asking the most discriminative questions and extracting answers. CCBR has been applied in the domain of customer support and selection of products and services in E-Commerce [6]."
   ]
  },
  {
   "cell_type": "markdown",
   "id": "36264928",
   "metadata": {},
   "source": [
    "## Hybrid CBR with other ML tools"
   ]
  },
  {
   "cell_type": "markdown",
   "id": "fff89571",
   "metadata": {},
   "source": [
    "In paper [2], neural network (NN) methods were used to reduce the burden for case-based reasoning. Results demonstrated that it improved performance, namely on new cases due to adaptation support by NN.\n",
    "\n",
    "In another study [1], the system combines convolution neural network (CNN),  case-based reasoning (CBR), and reinforcement leaning (RL) to propose a system that detects, predict, control, evaluate, and learn in a unified framework. That system is a traffic signal control system (TSCS), where CNN is used to detect emergency cases and predict events that disrupt the transport stream, CBR is used to respond to detected and predicted events, and RL is used to construct and expand the case bases."
   ]
  },
  {
   "cell_type": "markdown",
   "id": "0bd67dc2",
   "metadata": {},
   "source": [
    "# Working Principles of the Method"
   ]
  },
  {
   "cell_type": "markdown",
   "id": "85fb2c8a",
   "metadata": {},
   "source": [
    "## Hunt’s model of CBR"
   ]
  },
  {
   "cell_type": "markdown",
   "id": "742c8608",
   "metadata": {},
   "source": [
    "Hunt's model of case-based reasoning is illustrated in Figure 2 [4]; according to it CBR process is the following:\n",
    "\n",
    "1) analyzing inputs (new case) to the system to define required features to select previous cases and solve the new case;\n",
    "\n",
    "2) proceeding defined features with initial input to retrieval step;\n",
    "\n",
    "3) using proceeded information to select previous cases that are similar to the new case (retrieval step);\n",
    "\n",
    "4) adapting the best fitted previous case to suit the new case;\n",
    "\n",
    "5) evaluating the adapted case to check the existence of solution of the current (new) case;\n",
    "\n",
    "6) if the solution is evaluated, it is introduced as the solution of the new case and stored in the database; else solution goes to the repair step, where reasons why the selected case fails problem solution are defined. \n",
    "\n",
    "<img align=\"middle\"  src=\"images/Hunt.png\"/> \n",
    "                                    \n",
    "                                            Figure 2. Hunt's model of CBR [4]"
   ]
  },
  {
   "cell_type": "markdown",
   "id": "5e94bf00",
   "metadata": {},
   "source": [
    "## Allen’s model of CBR"
   ]
  },
  {
   "cell_type": "markdown",
   "id": "2432ce7e",
   "metadata": {},
   "source": [
    "According to Allen's model of CBR [4], it consists of five steps which are the following:\n",
    "\n",
    "1) presentation, where the definition of current problem which is a new case entered into the system;\n",
    "\n",
    "2) retrieval, as was written previously, this step selects the best-matched case to the current problem;\n",
    "\n",
    "3) adaptation, here best-matched case adapted to solve the current problem\n",
    "\n",
    "4) validation, here solution validated based on feedback from a user\n",
    "\n",
    "5) update, where validated solution added to the database to be used in future."
   ]
  },
  {
   "cell_type": "markdown",
   "id": "f68019e6",
   "metadata": {},
   "source": [
    "## Kolodner and Leakes' model of CBR process"
   ]
  },
  {
   "cell_type": "markdown",
   "id": "6dc561dc",
   "metadata": {},
   "source": [
    "Kolodner and Leakes' model of the CBR process that shown in Figure 3 [4] consists of six steps:\n",
    "\n",
    "1) retrieve, where a possible solution of the new case is selected based on the similarity between previous and new cases,\n",
    "\n",
    "\n",
    "2) after CBR propose a ballpark solution\n",
    "\n",
    "3) interpretive CBR task performs justification because it uses previous cases as a reference and judges a new case solution\n",
    "\n",
    "   problem-solving CBR task performs adaptation because it uses previous cases to make suggestions about a new case solution\n",
    "   \n",
    "4) by criticizing the new solution, performs additional adaptation\n",
    "\n",
    "5) new solution evaluated in the evaluation step\n",
    "\n",
    "6) in case of success, it is stored in the database for future use; in case of failure, it repeats steps started from adaptation or justification.\n",
    "\n",
    "<img align=\"middle\"  src=\"images/Kolodner and Leake.png\"/> \n",
    "                                    \n",
    "                                   Figure 3. Kolodner and Leakes' model of CBR [4])"
   ]
  },
  {
   "cell_type": "markdown",
   "id": "ad273384",
   "metadata": {},
   "source": [
    "## $R^{4}$ model of CBR"
   ]
  },
  {
   "cell_type": "markdown",
   "id": "253b8ed3",
   "metadata": {},
   "source": [
    "Aamodt and Plaza provided a $R^{4}$ model of CBR [4], which includes four sequential steps: *retrieve, reuse, revise* and *retain*. \n",
    "\n",
    "This CBR cycle has the following steps:\n",
    "\n",
    "1) define the new case, which is a current problem, and then retrieve a case from the database of previous cases;\n",
    "\n",
    "3) by reuse retrieved case combined with new case and become solved case;\n",
    "\n",
    "4) solved case tested for the successful solution of current problem;\n",
    "\n",
    "5) retained a new solution as part of the new case, which becomes a learned case and stored in the database of previous cases.\n",
    "\n",
    "\n",
    "<img align=\"middle\"  src=\"images/CBR_Cycle.jpg\"/> \n",
    "                                    \n",
    "                                            Figure 4. R^{4} model of CBR [4]\n",
    "                                         "
   ]
  },
  {
   "cell_type": "markdown",
   "id": "dbf053d9",
   "metadata": {},
   "source": [
    "## Mathematical model of CBR\n",
    "\n",
    "The mathematics of CBR is based on the similarity concept; as mentioned previously, there are $Local Similarity$ $(LS)$ and $Global Similarity$ $(GS)$ between the new case and the database of previous cases.\n",
    "\n",
    "Mathematical formula of the Local Similarity (LS) is the following:\n",
    "\\begin{align}\n",
    "sim(\\mathbf{a}, \\mathbf{b}) = 1- \\frac{\\text{|a-b|}}{\\text{range}}\\quad\\quad\\quad\\quad\\quad\\quad\\quad\\quad\\quad\\quad\\quad\\quad\\quad\\quad(1)\n",
    "\\end{align}  \n",
    "\n",
    "where $a$ is a new feature,\n",
    "\n",
    "$b$ is an old feature (previous),\n",
    "\n",
    "$range$ is the difference between max and min values in previous cases.\n",
    "\n",
    "The mathematical formula of the Global Similarity (GS) is the following:\n",
    "\\begin{align}\n",
    "sim(\\mathbf{A}, \\mathbf{B}) = \\frac{\\text{1}}{\\text{$\\sum_{}^{} w_i$}}\\sum_{i=1}^{p} w_isim(\\mathbf{a}, \\mathbf{b})\\quad\\quad\\quad\\quad\\quad\\quad\\quad\\quad\\quad\\quad\\quad\\quad\\quad(2)\n",
    "\\end{align}  \n",
    "\n",
    "where $A$ is new case,\n",
    "\n",
    "$B$ is previous case,\n",
    "\n",
    "$w_i$ is weight of each atribuit,\n",
    "\n",
    "$i$ is iteartion of cases,\n",
    "\n",
    "$p$ is proposed number of cases,\n",
    "\n",
    "$sim(\\mathbf{a}, \\mathbf{b})$ is local simplicity.\n",
    "\n",
    "After finding global simplicities, we should select global simplicity with maximum value - our best-matched case. Then selected case merged with new case into a solved case:\n",
    "\\begin{align}\n",
    "C=A∪B_{best}\\quad\\quad\\quad\\quad\\quad\\quad\\quad\\quad\\quad\\quad\\quad\\quad\\quad\\quad(3)\n",
    "\\end{align} \n",
    "\n",
    "where $C$ is solved case (after reuse step),\n",
    "\n",
    "$B_{best}$ is best matched the previous case.\n",
    "\n",
    "That solved case becomes a testing case after revising and then becomes a learned case after retaining."
   ]
  },
  {
   "cell_type": "markdown",
   "id": "f6ff74c6",
   "metadata": {},
   "source": [
    "## Mathematical model of Preference-based CBR"
   ]
  },
  {
   "cell_type": "markdown",
   "id": "60bc6b21",
   "metadata": {},
   "source": [
    "The mathematics of preference-based CBR is based on the preference of solution $y$, which is $y∈Y$ ($Y$ - solution space). That preference depends on the distance between solution $y$ and the \"ideal\" solution $y^{*}$. The distance is defined as $Δ(y, y^{*})$ ≥ 0, and also called *\"degree of subopyimality\"*. Large \"degree\" leads to less suitable $y$ as a substitute of $y^{*}$.\n",
    "\n",
    "Possibility of preference of $y$ based on the following probability equation:\n",
    "\\begin{align}\n",
    "P(\\mathbf{y>y'}) = \\frac{\\text{1}}{\\text{1+exp(-β(Δ(y', $𝑦^∗$)-Δ(y, $𝑦^∗$)))}} \\quad\\quad\\quad\\quad\\quad\\quad\\quad\\quad\\quad\\quad\\quad\\quad\\quad(4)\n",
    "\\end{align}\n",
    "\n",
    "where β is the coefficient of precision.\n",
    "\n",
    "In case when Δ(y', $𝑦^∗$)=Δ(y, $𝑦^∗$), probability of $P(y>y') = 0.5$ ."
   ]
  },
  {
   "cell_type": "markdown",
   "id": "915bbb9c",
   "metadata": {},
   "source": [
    "# Numerical Experiments "
   ]
  },
  {
   "cell_type": "markdown",
   "id": "2fc5d64a",
   "metadata": {},
   "source": [
    "The ``Level_of_happiness.xlsx`` file provides information about happiness levels in different countries based on several criteria and defines levels as high and low. The problem is to determine the level of the country from the ``New_case.xlsx`` file by using information from ``Level_of_happiness.xlsx`` and case-based reasoning ($R^{4}$ model).\n",
    "\n",
    "First, import the ``Level_of_happiness.xlsx`` file that is a database of previous cases in this example."
   ]
  },
  {
   "cell_type": "code",
   "execution_count": 51,
   "id": "4648d7a6",
   "metadata": {},
   "outputs": [
    {
     "data": {
      "text/html": [
       "<div>\n",
       "<style scoped>\n",
       "    .dataframe tbody tr th:only-of-type {\n",
       "        vertical-align: middle;\n",
       "    }\n",
       "\n",
       "    .dataframe tbody tr th {\n",
       "        vertical-align: top;\n",
       "    }\n",
       "\n",
       "    .dataframe thead th {\n",
       "        text-align: right;\n",
       "    }\n",
       "</style>\n",
       "<table border=\"1\" class=\"dataframe\">\n",
       "  <thead>\n",
       "    <tr style=\"text-align: right;\">\n",
       "      <th></th>\n",
       "      <th>Number</th>\n",
       "      <th>Country or region</th>\n",
       "      <th>Score</th>\n",
       "      <th>GDP per capita</th>\n",
       "      <th>Social support</th>\n",
       "      <th>Healthy life expectancy</th>\n",
       "      <th>Freedom to make life choices</th>\n",
       "      <th>Generosity</th>\n",
       "      <th>Perceptions of corruption</th>\n",
       "      <th>Level of happiness</th>\n",
       "    </tr>\n",
       "  </thead>\n",
       "  <tbody>\n",
       "    <tr>\n",
       "      <th>0</th>\n",
       "      <td>1</td>\n",
       "      <td>Finland</td>\n",
       "      <td>7.809</td>\n",
       "      <td>1.285</td>\n",
       "      <td>1.500</td>\n",
       "      <td>0.961</td>\n",
       "      <td>0.662</td>\n",
       "      <td>0.160</td>\n",
       "      <td>0.478</td>\n",
       "      <td>High</td>\n",
       "    </tr>\n",
       "    <tr>\n",
       "      <th>1</th>\n",
       "      <td>2</td>\n",
       "      <td>Denmark</td>\n",
       "      <td>7.646</td>\n",
       "      <td>1.327</td>\n",
       "      <td>1.503</td>\n",
       "      <td>0.979</td>\n",
       "      <td>0.665</td>\n",
       "      <td>0.243</td>\n",
       "      <td>0.495</td>\n",
       "      <td>High</td>\n",
       "    </tr>\n",
       "    <tr>\n",
       "      <th>2</th>\n",
       "      <td>3</td>\n",
       "      <td>Switzerland</td>\n",
       "      <td>7.560</td>\n",
       "      <td>1.391</td>\n",
       "      <td>1.472</td>\n",
       "      <td>1.041</td>\n",
       "      <td>0.629</td>\n",
       "      <td>0.269</td>\n",
       "      <td>0.408</td>\n",
       "      <td>High</td>\n",
       "    </tr>\n",
       "    <tr>\n",
       "      <th>3</th>\n",
       "      <td>4</td>\n",
       "      <td>Armenia</td>\n",
       "      <td>4.677</td>\n",
       "      <td>0.808</td>\n",
       "      <td>1.035</td>\n",
       "      <td>0.776</td>\n",
       "      <td>0.378</td>\n",
       "      <td>0.107</td>\n",
       "      <td>0.105</td>\n",
       "      <td>Low</td>\n",
       "    </tr>\n",
       "    <tr>\n",
       "      <th>4</th>\n",
       "      <td>5</td>\n",
       "      <td>Georgia</td>\n",
       "      <td>4.673</td>\n",
       "      <td>0.847</td>\n",
       "      <td>0.731</td>\n",
       "      <td>0.695</td>\n",
       "      <td>0.485</td>\n",
       "      <td>0.048</td>\n",
       "      <td>0.174</td>\n",
       "      <td>Low</td>\n",
       "    </tr>\n",
       "  </tbody>\n",
       "</table>\n",
       "</div>"
      ],
      "text/plain": [
       "   Number Country or region  Score  GDP per capita  Social support  \\\n",
       "0       1           Finland  7.809           1.285           1.500   \n",
       "1       2           Denmark  7.646           1.327           1.503   \n",
       "2       3       Switzerland  7.560           1.391           1.472   \n",
       "3       4           Armenia  4.677           0.808           1.035   \n",
       "4       5           Georgia  4.673           0.847           0.731   \n",
       "\n",
       "   Healthy life expectancy  Freedom to make life choices  Generosity  \\\n",
       "0                    0.961                         0.662       0.160   \n",
       "1                    0.979                         0.665       0.243   \n",
       "2                    1.041                         0.629       0.269   \n",
       "3                    0.776                         0.378       0.107   \n",
       "4                    0.695                         0.485       0.048   \n",
       "\n",
       "   Perceptions of corruption Level of happiness  \n",
       "0                      0.478               High  \n",
       "1                      0.495               High  \n",
       "2                      0.408               High  \n",
       "3                      0.105                Low  \n",
       "4                      0.174                Low  "
      ]
     },
     "execution_count": 51,
     "metadata": {},
     "output_type": "execute_result"
    }
   ],
   "source": [
    "import pandas as pd\n",
    "import numpy as np\n",
    "df=pd.read_excel('Level_of_happiness.xlsx')\n",
    "df"
   ]
  },
  {
   "cell_type": "markdown",
   "id": "c48031db",
   "metadata": {},
   "source": [
    "Then import the ``New_case.xlsx`` file that is a new case or current problem in this example."
   ]
  },
  {
   "cell_type": "code",
   "execution_count": 52,
   "id": "9fd532da",
   "metadata": {},
   "outputs": [
    {
     "data": {
      "text/html": [
       "<div>\n",
       "<style scoped>\n",
       "    .dataframe tbody tr th:only-of-type {\n",
       "        vertical-align: middle;\n",
       "    }\n",
       "\n",
       "    .dataframe tbody tr th {\n",
       "        vertical-align: top;\n",
       "    }\n",
       "\n",
       "    .dataframe thead th {\n",
       "        text-align: right;\n",
       "    }\n",
       "</style>\n",
       "<table border=\"1\" class=\"dataframe\">\n",
       "  <thead>\n",
       "    <tr style=\"text-align: right;\">\n",
       "      <th></th>\n",
       "      <th>Country or region</th>\n",
       "      <th>Score</th>\n",
       "      <th>GDP per capita</th>\n",
       "      <th>Social support</th>\n",
       "      <th>Healthy life expectancy</th>\n",
       "      <th>Freedom to make life choices</th>\n",
       "      <th>Generosity</th>\n",
       "      <th>Perceptions of corruption</th>\n",
       "      <th>Unnamed: 8</th>\n",
       "    </tr>\n",
       "  </thead>\n",
       "  <tbody>\n",
       "    <tr>\n",
       "      <th>0</th>\n",
       "      <td>Japan</td>\n",
       "      <td>5.871</td>\n",
       "      <td>1.267</td>\n",
       "      <td>1.332</td>\n",
       "      <td>1.073</td>\n",
       "      <td>0.495</td>\n",
       "      <td>0.036</td>\n",
       "      <td>0.181</td>\n",
       "      <td>NaN</td>\n",
       "    </tr>\n",
       "  </tbody>\n",
       "</table>\n",
       "</div>"
      ],
      "text/plain": [
       "  Country or region  Score  GDP per capita  Social support  \\\n",
       "0             Japan  5.871           1.267           1.332   \n",
       "\n",
       "   Healthy life expectancy  Freedom to make life choices  Generosity  \\\n",
       "0                    1.073                         0.495       0.036   \n",
       "\n",
       "   Perceptions of corruption  Unnamed: 8  \n",
       "0                      0.181         NaN  "
      ]
     },
     "execution_count": 52,
     "metadata": {},
     "output_type": "execute_result"
    }
   ],
   "source": [
    "new_case=pd.read_excel('New_case.xlsx')\n",
    "new_case"
   ]
  },
  {
   "cell_type": "markdown",
   "id": "2c4607a7",
   "metadata": {},
   "source": [
    "Since there is an unnecessary column named ``'Unnamed:8'`` we should remove it."
   ]
  },
  {
   "cell_type": "code",
   "execution_count": 53,
   "id": "fec8df58",
   "metadata": {},
   "outputs": [
    {
     "data": {
      "text/html": [
       "<div>\n",
       "<style scoped>\n",
       "    .dataframe tbody tr th:only-of-type {\n",
       "        vertical-align: middle;\n",
       "    }\n",
       "\n",
       "    .dataframe tbody tr th {\n",
       "        vertical-align: top;\n",
       "    }\n",
       "\n",
       "    .dataframe thead th {\n",
       "        text-align: right;\n",
       "    }\n",
       "</style>\n",
       "<table border=\"1\" class=\"dataframe\">\n",
       "  <thead>\n",
       "    <tr style=\"text-align: right;\">\n",
       "      <th></th>\n",
       "      <th>Country or region</th>\n",
       "      <th>Score</th>\n",
       "      <th>GDP per capita</th>\n",
       "      <th>Social support</th>\n",
       "      <th>Healthy life expectancy</th>\n",
       "      <th>Freedom to make life choices</th>\n",
       "      <th>Generosity</th>\n",
       "      <th>Perceptions of corruption</th>\n",
       "    </tr>\n",
       "  </thead>\n",
       "  <tbody>\n",
       "    <tr>\n",
       "      <th>0</th>\n",
       "      <td>Japan</td>\n",
       "      <td>5.871</td>\n",
       "      <td>1.267</td>\n",
       "      <td>1.332</td>\n",
       "      <td>1.073</td>\n",
       "      <td>0.495</td>\n",
       "      <td>0.036</td>\n",
       "      <td>0.181</td>\n",
       "    </tr>\n",
       "  </tbody>\n",
       "</table>\n",
       "</div>"
      ],
      "text/plain": [
       "  Country or region  Score  GDP per capita  Social support  \\\n",
       "0             Japan  5.871           1.267           1.332   \n",
       "\n",
       "   Healthy life expectancy  Freedom to make life choices  Generosity  \\\n",
       "0                    1.073                         0.495       0.036   \n",
       "\n",
       "   Perceptions of corruption  \n",
       "0                      0.181  "
      ]
     },
     "execution_count": 53,
     "metadata": {},
     "output_type": "execute_result"
    }
   ],
   "source": [
    "new_case=new_case.drop(columns=['Unnamed: 8'])\n",
    "new_case"
   ]
  },
  {
   "cell_type": "markdown",
   "id": "ba48fae1",
   "metadata": {},
   "source": [
    "According to the CBR cycle, the first step is RETRIEVE, where local and global simplicities were calculated based on (1) and (2) equations.\n",
    "\n",
    "Before starting range values of each column were calculated:"
   ]
  },
  {
   "cell_type": "code",
   "execution_count": 54,
   "id": "c7bc1f58",
   "metadata": {},
   "outputs": [],
   "source": [
    "#Range\n",
    "range_score=df[\"Score\"].max()-df[\"Score\"].min()\n",
    "range_GDP=df[\"GDP per capita\"].max()-df[\"GDP per capita\"].min()\n",
    "range_social_support=df[\"Social support\"].max()-df[\"Social support\"].min()\n",
    "range_health=df[\"Healthy life expectancy\"].max()-df[\"Healthy life expectancy\"].min()\n",
    "range_freedom=df[\"Freedom to make life choices\"].max()-df[\"Freedom to make life choices\"].min()\n",
    "range_Generosity=df[\"Generosity\"].max()-df[\"Generosity\"].min()\n",
    "range_corruption=df[\"Perceptions of corruption\"].max()-df[\"Perceptions of corruption\"].min()"
   ]
  },
  {
   "cell_type": "code",
   "execution_count": 55,
   "id": "0a9797b8",
   "metadata": {},
   "outputs": [
    {
     "name": "stdout",
     "output_type": "stream",
     "text": [
      "Table of ranges\n"
     ]
    },
    {
     "data": {
      "text/html": [
       "<div>\n",
       "<style scoped>\n",
       "    .dataframe tbody tr th:only-of-type {\n",
       "        vertical-align: middle;\n",
       "    }\n",
       "\n",
       "    .dataframe tbody tr th {\n",
       "        vertical-align: top;\n",
       "    }\n",
       "\n",
       "    .dataframe thead th {\n",
       "        text-align: right;\n",
       "    }\n",
       "</style>\n",
       "<table border=\"1\" class=\"dataframe\">\n",
       "  <thead>\n",
       "    <tr style=\"text-align: right;\">\n",
       "      <th></th>\n",
       "      <th>Score</th>\n",
       "      <th>GDP per capita</th>\n",
       "      <th>Social support</th>\n",
       "      <th>Healthy life expectancy</th>\n",
       "      <th>Freedom to make life choices</th>\n",
       "      <th>Generosity</th>\n",
       "      <th>Perceptions of corruption</th>\n",
       "    </tr>\n",
       "  </thead>\n",
       "  <tbody>\n",
       "    <tr>\n",
       "      <th>0</th>\n",
       "      <td>3.136</td>\n",
       "      <td>0.583</td>\n",
       "      <td>0.772</td>\n",
       "      <td>0.346</td>\n",
       "      <td>0.287</td>\n",
       "      <td>0.221</td>\n",
       "      <td>0.39</td>\n",
       "    </tr>\n",
       "  </tbody>\n",
       "</table>\n",
       "</div>"
      ],
      "text/plain": [
       "   Score  GDP per capita  Social support  Healthy life expectancy  \\\n",
       "0  3.136           0.583           0.772                    0.346   \n",
       "\n",
       "   Freedom to make life choices  Generosity  Perceptions of corruption  \n",
       "0                         0.287       0.221                       0.39  "
      ]
     },
     "execution_count": 55,
     "metadata": {},
     "output_type": "execute_result"
    }
   ],
   "source": [
    "#Range table\n",
    "d=[[range_score, range_GDP,range_social_support,range_health,range_freedom,range_Generosity,range_corruption]]\n",
    "range_table=pd.DataFrame(d, columns=['Score','GDP per capita','Social support','Healthy life expectancy','Freedom to make life choices','Generosity','Perceptions of corruption'])\n",
    "print(\"Table of ranges\")\n",
    "range_table"
   ]
  },
  {
   "cell_type": "markdown",
   "id": "739b54e2",
   "metadata": {},
   "source": [
    "After that, local simplicity between previous cases and a new case was calculated:"
   ]
  },
  {
   "cell_type": "code",
   "execution_count": 56,
   "id": "235ada9b",
   "metadata": {},
   "outputs": [
    {
     "name": "stdout",
     "output_type": "stream",
     "text": [
      "Table of the Local Simplicity\n"
     ]
    },
    {
     "data": {
      "text/html": [
       "<div>\n",
       "<style scoped>\n",
       "    .dataframe tbody tr th:only-of-type {\n",
       "        vertical-align: middle;\n",
       "    }\n",
       "\n",
       "    .dataframe tbody tr th {\n",
       "        vertical-align: top;\n",
       "    }\n",
       "\n",
       "    .dataframe thead th {\n",
       "        text-align: right;\n",
       "    }\n",
       "</style>\n",
       "<table border=\"1\" class=\"dataframe\">\n",
       "  <thead>\n",
       "    <tr style=\"text-align: right;\">\n",
       "      <th></th>\n",
       "      <th>Score</th>\n",
       "      <th>GDP per capita</th>\n",
       "      <th>Social support</th>\n",
       "      <th>Healthy life expectancy</th>\n",
       "      <th>Freedom to make life choices</th>\n",
       "      <th>Generosity</th>\n",
       "      <th>Perceptions of corruption</th>\n",
       "    </tr>\n",
       "  </thead>\n",
       "  <tbody>\n",
       "    <tr>\n",
       "      <th>0</th>\n",
       "      <td>0.382015</td>\n",
       "      <td>0.969125</td>\n",
       "      <td>0.782383</td>\n",
       "      <td>0.676301</td>\n",
       "      <td>0.418118</td>\n",
       "      <td>0.438914</td>\n",
       "      <td>0.238462</td>\n",
       "    </tr>\n",
       "    <tr>\n",
       "      <th>1</th>\n",
       "      <td>0.433992</td>\n",
       "      <td>0.897084</td>\n",
       "      <td>0.778497</td>\n",
       "      <td>0.728324</td>\n",
       "      <td>0.407666</td>\n",
       "      <td>0.063348</td>\n",
       "      <td>0.194872</td>\n",
       "    </tr>\n",
       "    <tr>\n",
       "      <th>2</th>\n",
       "      <td>0.461416</td>\n",
       "      <td>0.787307</td>\n",
       "      <td>0.818653</td>\n",
       "      <td>0.907514</td>\n",
       "      <td>0.533101</td>\n",
       "      <td>-0.054299</td>\n",
       "      <td>0.417949</td>\n",
       "    </tr>\n",
       "    <tr>\n",
       "      <th>3</th>\n",
       "      <td>0.461416</td>\n",
       "      <td>0.212693</td>\n",
       "      <td>0.615285</td>\n",
       "      <td>0.141618</td>\n",
       "      <td>0.592334</td>\n",
       "      <td>0.678733</td>\n",
       "      <td>0.805128</td>\n",
       "    </tr>\n",
       "    <tr>\n",
       "      <th>4</th>\n",
       "      <td>0.461416</td>\n",
       "      <td>0.279588</td>\n",
       "      <td>0.221503</td>\n",
       "      <td>-0.092486</td>\n",
       "      <td>0.965157</td>\n",
       "      <td>0.945701</td>\n",
       "      <td>0.982051</td>\n",
       "    </tr>\n",
       "  </tbody>\n",
       "</table>\n",
       "</div>"
      ],
      "text/plain": [
       "      Score  GDP per capita  Social support  Healthy life expectancy  \\\n",
       "0  0.382015        0.969125        0.782383                 0.676301   \n",
       "1  0.433992        0.897084        0.778497                 0.728324   \n",
       "2  0.461416        0.787307        0.818653                 0.907514   \n",
       "3  0.461416        0.212693        0.615285                 0.141618   \n",
       "4  0.461416        0.279588        0.221503                -0.092486   \n",
       "\n",
       "   Freedom to make life choices  Generosity  Perceptions of corruption  \n",
       "0                      0.418118    0.438914                   0.238462  \n",
       "1                      0.407666    0.063348                   0.194872  \n",
       "2                      0.533101   -0.054299                   0.417949  \n",
       "3                      0.592334    0.678733                   0.805128  \n",
       "4                      0.965157    0.945701                   0.982051  "
      ]
     },
     "execution_count": 56,
     "metadata": {},
     "output_type": "execute_result"
    }
   ],
   "source": [
    "# Local Similarity(LS) for new case (Japan) and previous (Finland)\n",
    "score_1=df.head(1)\n",
    "LS_1_Finland=1-abs((new_case[\"Score\"].max()-score_1[\"Score\"].max()))/range_score\n",
    "LS_2_Finland=1-abs((new_case[\"GDP per capita\"].max()-score_1[\"GDP per capita\"].max()))/range_GDP\n",
    "LS_3_Finland=1-abs((new_case[\"Social support\"].max()-score_1[\"Social support\"].max()))/range_social_support\n",
    "LS_4_Finland=1-abs((new_case[\"Healthy life expectancy\"].max()-score_1[\"Healthy life expectancy\"].max()))/range_health\n",
    "LS_5_Finland=1-abs((new_case[\"Freedom to make life choices\"].max()-score_1[\"Freedom to make life choices\"].max()))/range_freedom\n",
    "LS_6_Finland=1-abs((new_case[\"Generosity\"].max()-score_1[\"Generosity\"].max()))/range_Generosity\n",
    "LS_7_Finland=1-abs((new_case[\"Perceptions of corruption\"].max()-score_1[\"Perceptions of corruption\"].max()))/range_corruption\n",
    "#Denmark\n",
    "dropped0=df.drop(0)\n",
    "dropped1=dropped0.drop(2)\n",
    "dropped2=dropped1.drop(3)\n",
    "dropped3=dropped2.drop(4)\n",
    "score_2=dropped3\n",
    "LS_1_Denmark=1-abs((new_case[\"Score\"].max()-score_2[\"Score\"].max()))/range_score\n",
    "LS_2_Denmark=1-abs((new_case[\"GDP per capita\"].max()-score_2[\"GDP per capita\"].max()))/range_GDP\n",
    "LS_3_Denmark=1-abs((new_case[\"Social support\"].max()-score_2[\"Social support\"].max()))/range_social_support\n",
    "LS_4_Denmark=1-abs((new_case[\"Healthy life expectancy\"].max()-score_2[\"Healthy life expectancy\"].max()))/range_health\n",
    "LS_5_Denmark=1-abs((new_case[\"Freedom to make life choices\"].max()-score_2[\"Freedom to make life choices\"].max()))/range_freedom\n",
    "LS_6_Denmark=1-abs((new_case[\"Generosity\"].max()-score_2[\"Generosity\"].max()))/range_Generosity\n",
    "LS_7_Denmark=1-abs((new_case[\"Perceptions of corruption\"].max()-score_2[\"Perceptions of corruption\"].max()))/range_corruption\n",
    "#Switzerland\n",
    "dropped0=df.drop(0)\n",
    "dropped1=dropped0.drop(1)\n",
    "dropped2=dropped1.drop(3)\n",
    "dropped3=dropped2.drop(4)\n",
    "score_3=dropped3\n",
    "LS_1_Switzerland=1-abs((new_case[\"Score\"].max()-score_3[\"Score\"].max()))/range_score\n",
    "LS_2_Switzerland=1-abs((new_case[\"GDP per capita\"].max()-score_3[\"GDP per capita\"].max()))/range_GDP\n",
    "LS_3_Switzerland=1-abs((new_case[\"Social support\"].max()-score_3[\"Social support\"].max()))/range_social_support\n",
    "LS_4_Switzerland=1-abs((new_case[\"Healthy life expectancy\"].max()-score_3[\"Healthy life expectancy\"].max()))/range_health\n",
    "LS_5_Switzerland=1-abs((new_case[\"Freedom to make life choices\"].max()-score_3[\"Freedom to make life choices\"].max()))/range_freedom\n",
    "LS_6_Switzerland=1-abs((new_case[\"Generosity\"].max()-score_3[\"Generosity\"].max()))/range_Generosity\n",
    "LS_7_Switzerland=1-abs((new_case[\"Perceptions of corruption\"].max()-score_3[\"Perceptions of corruption\"].max()))/range_corruption\n",
    "#Armenia\n",
    "dropped0=df.drop(0)\n",
    "dropped1=dropped0.drop(1)\n",
    "dropped2=dropped1.drop(2)\n",
    "dropped3=dropped2.drop(4)\n",
    "score_4=dropped3\n",
    "LS_1_Armenia=1-abs((new_case[\"Score\"].max()-score_3[\"Score\"].max()))/range_score\n",
    "LS_2_Armenia=1-abs((new_case[\"GDP per capita\"].max()-score_4[\"GDP per capita\"].max()))/range_GDP\n",
    "LS_3_Armenia=1-abs((new_case[\"Social support\"].max()-score_4[\"Social support\"].max()))/range_social_support\n",
    "LS_4_Armenia=1-abs((new_case[\"Healthy life expectancy\"].max()-score_4[\"Healthy life expectancy\"].max()))/range_health\n",
    "LS_5_Armenia=1-abs((new_case[\"Freedom to make life choices\"].max()-score_4[\"Freedom to make life choices\"].max()))/range_freedom\n",
    "LS_6_Armenia=1-abs((new_case[\"Generosity\"].max()-score_4[\"Generosity\"].max()))/range_Generosity\n",
    "LS_7_Armenia=1-abs((new_case[\"Perceptions of corruption\"].max()-score_4[\"Perceptions of corruption\"].max()))/range_corruption\n",
    "#Georgia\n",
    "dropped0=df.drop(0)\n",
    "dropped1=dropped0.drop(1)\n",
    "dropped2=dropped1.drop(2)\n",
    "dropped3=dropped2.drop(3)\n",
    "score_5=dropped3\n",
    "LS_1_Georgia=1-abs((new_case[\"Score\"].max()-score_3[\"Score\"].max()))/range_score\n",
    "LS_2_Georgia=1-abs((new_case[\"GDP per capita\"].max()-score_5[\"GDP per capita\"].max()))/range_GDP\n",
    "LS_3_Georgia=1-abs((new_case[\"Social support\"].max()-score_5[\"Social support\"].max()))/range_social_support\n",
    "LS_4_Georgia=1-abs((new_case[\"Healthy life expectancy\"].max()-score_5[\"Healthy life expectancy\"].max()))/range_health\n",
    "LS_5_Georgia=1-abs((new_case[\"Freedom to make life choices\"].max()-score_5[\"Freedom to make life choices\"].max()))/range_freedom\n",
    "LS_6_Georgia=1-abs((new_case[\"Generosity\"].max()-score_5[\"Generosity\"].max()))/range_Generosity\n",
    "LS_7_Georgia=1-abs((new_case[\"Perceptions of corruption\"].max()-score_5[\"Perceptions of corruption\"].max()))/range_corruption\n",
    "LS_d=[[LS_1_Finland,LS_2_Finland,LS_3_Finland,LS_4_Finland,LS_5_Finland,LS_6_Finland,LS_7_Finland],\n",
    "    [LS_1_Denmark,LS_2_Denmark,LS_3_Denmark,LS_4_Denmark,LS_5_Denmark,LS_6_Denmark,LS_7_Denmark],\n",
    "     [LS_1_Switzerland,LS_2_Switzerland,LS_3_Switzerland,LS_4_Switzerland,LS_5_Switzerland,LS_6_Switzerland,LS_7_Switzerland],\n",
    "     [LS_1_Armenia,LS_2_Armenia,LS_3_Armenia,LS_4_Armenia,LS_5_Armenia,LS_6_Armenia,LS_7_Armenia],\n",
    "     [LS_1_Georgia,LS_2_Georgia,LS_3_Georgia,LS_4_Georgia,LS_5_Georgia,LS_6_Georgia,LS_7_Georgia]]\n",
    "LS_table=pd.DataFrame(LS_d, columns=['Score','GDP per capita','Social support','Healthy life expectancy','Freedom to make life choices','Generosity','Perceptions of corruption'])\n",
    "#LS_table=LS_table.insert(0, 'Country', ['Finland','Denmark','Switzerland','Armenia','Georgia'])\n",
    "print(\"Table of the Local Simplicity\")\n",
    "LS_table"
   ]
  },
  {
   "cell_type": "code",
   "execution_count": 57,
   "id": "e9429bf9",
   "metadata": {},
   "outputs": [
    {
     "name": "stdout",
     "output_type": "stream",
     "text": [
      "Table of the Local Simplicity\n"
     ]
    },
    {
     "data": {
      "text/html": [
       "<div>\n",
       "<style scoped>\n",
       "    .dataframe tbody tr th:only-of-type {\n",
       "        vertical-align: middle;\n",
       "    }\n",
       "\n",
       "    .dataframe tbody tr th {\n",
       "        vertical-align: top;\n",
       "    }\n",
       "\n",
       "    .dataframe thead th {\n",
       "        text-align: right;\n",
       "    }\n",
       "</style>\n",
       "<table border=\"1\" class=\"dataframe\">\n",
       "  <thead>\n",
       "    <tr style=\"text-align: right;\">\n",
       "      <th></th>\n",
       "      <th>Country</th>\n",
       "      <th>Score</th>\n",
       "      <th>GDP per capita</th>\n",
       "      <th>Social support</th>\n",
       "      <th>Healthy life expectancy</th>\n",
       "      <th>Freedom to make life choices</th>\n",
       "      <th>Generosity</th>\n",
       "      <th>Perceptions of corruption</th>\n",
       "    </tr>\n",
       "  </thead>\n",
       "  <tbody>\n",
       "    <tr>\n",
       "      <th>0</th>\n",
       "      <td>Finland</td>\n",
       "      <td>0.382015</td>\n",
       "      <td>0.969125</td>\n",
       "      <td>0.782383</td>\n",
       "      <td>0.676301</td>\n",
       "      <td>0.418118</td>\n",
       "      <td>0.438914</td>\n",
       "      <td>0.238462</td>\n",
       "    </tr>\n",
       "    <tr>\n",
       "      <th>1</th>\n",
       "      <td>Denmark</td>\n",
       "      <td>0.433992</td>\n",
       "      <td>0.897084</td>\n",
       "      <td>0.778497</td>\n",
       "      <td>0.728324</td>\n",
       "      <td>0.407666</td>\n",
       "      <td>0.063348</td>\n",
       "      <td>0.194872</td>\n",
       "    </tr>\n",
       "    <tr>\n",
       "      <th>2</th>\n",
       "      <td>Switzerland</td>\n",
       "      <td>0.461416</td>\n",
       "      <td>0.787307</td>\n",
       "      <td>0.818653</td>\n",
       "      <td>0.907514</td>\n",
       "      <td>0.533101</td>\n",
       "      <td>-0.054299</td>\n",
       "      <td>0.417949</td>\n",
       "    </tr>\n",
       "    <tr>\n",
       "      <th>3</th>\n",
       "      <td>Armenia</td>\n",
       "      <td>0.461416</td>\n",
       "      <td>0.212693</td>\n",
       "      <td>0.615285</td>\n",
       "      <td>0.141618</td>\n",
       "      <td>0.592334</td>\n",
       "      <td>0.678733</td>\n",
       "      <td>0.805128</td>\n",
       "    </tr>\n",
       "    <tr>\n",
       "      <th>4</th>\n",
       "      <td>Georgia</td>\n",
       "      <td>0.461416</td>\n",
       "      <td>0.279588</td>\n",
       "      <td>0.221503</td>\n",
       "      <td>-0.092486</td>\n",
       "      <td>0.965157</td>\n",
       "      <td>0.945701</td>\n",
       "      <td>0.982051</td>\n",
       "    </tr>\n",
       "  </tbody>\n",
       "</table>\n",
       "</div>"
      ],
      "text/plain": [
       "       Country     Score  GDP per capita  Social support  \\\n",
       "0      Finland  0.382015        0.969125        0.782383   \n",
       "1      Denmark  0.433992        0.897084        0.778497   \n",
       "2  Switzerland  0.461416        0.787307        0.818653   \n",
       "3      Armenia  0.461416        0.212693        0.615285   \n",
       "4      Georgia  0.461416        0.279588        0.221503   \n",
       "\n",
       "   Healthy life expectancy  Freedom to make life choices  Generosity  \\\n",
       "0                 0.676301                      0.418118    0.438914   \n",
       "1                 0.728324                      0.407666    0.063348   \n",
       "2                 0.907514                      0.533101   -0.054299   \n",
       "3                 0.141618                      0.592334    0.678733   \n",
       "4                -0.092486                      0.965157    0.945701   \n",
       "\n",
       "   Perceptions of corruption  \n",
       "0                   0.238462  \n",
       "1                   0.194872  \n",
       "2                   0.417949  \n",
       "3                   0.805128  \n",
       "4                   0.982051  "
      ]
     },
     "execution_count": 57,
     "metadata": {},
     "output_type": "execute_result"
    }
   ],
   "source": [
    "print(\"Table of the Local Simplicity\")\n",
    "LS_table.insert(0,'Country', ['Finland','Denmark','Switzerland','Armenia','Georgia'], False)\n",
    "LS_table"
   ]
  },
  {
   "cell_type": "markdown",
   "id": "311b7535",
   "metadata": {},
   "source": [
    "Then by assuming that weights of each attribute are the same global simplicity was calculated:"
   ]
  },
  {
   "cell_type": "code",
   "execution_count": 58,
   "id": "4fb93531",
   "metadata": {},
   "outputs": [],
   "source": [
    "weight=1+1+1+1+1\n",
    "LS_Finland_Japan=[LS_1_Finland,LS_2_Finland,LS_3_Finland,LS_4_Finland,LS_5_Finland,LS_6_Finland,LS_7_Finland]\n",
    "LS_Denmark_Japan=[LS_1_Denmark,LS_2_Denmark,LS_3_Denmark,LS_4_Denmark,LS_5_Denmark,LS_6_Denmark,LS_7_Denmark]\n",
    "LS_Switzerland_Japan=[LS_1_Switzerland,LS_2_Switzerland,LS_3_Switzerland,LS_4_Switzerland,LS_5_Switzerland,LS_6_Switzerland,LS_7_Switzerland]\n",
    "LS_Armenia_Japan=[LS_1_Armenia,LS_2_Armenia,LS_3_Armenia,LS_4_Armenia,LS_5_Armenia,LS_6_Armenia,LS_7_Armenia]\n",
    "LS_Georgia_Japan=[LS_1_Georgia,LS_2_Georgia,LS_3_Georgia,LS_4_Georgia,LS_5_Georgia,LS_6_Georgia,LS_7_Georgia]\n",
    "GS_1=(1/weight)*sum(LS_Finland_Japan)\n",
    "GS_2=(1/weight)*sum(LS_Denmark_Japan)\n",
    "GS_3=(1/weight)*sum(LS_Switzerland_Japan)\n",
    "GS_4=(1/weight)*sum(LS_Armenia_Japan)\n",
    "GS_5=(1/weight)*sum(LS_Georgia_Japan)"
   ]
  },
  {
   "cell_type": "code",
   "execution_count": 59,
   "id": "5b3ae1b3",
   "metadata": {},
   "outputs": [
    {
     "name": "stdout",
     "output_type": "stream",
     "text": [
      "Table of the Global Simplicity\n"
     ]
    },
    {
     "data": {
      "text/html": [
       "<div>\n",
       "<style scoped>\n",
       "    .dataframe tbody tr th:only-of-type {\n",
       "        vertical-align: middle;\n",
       "    }\n",
       "\n",
       "    .dataframe tbody tr th {\n",
       "        vertical-align: top;\n",
       "    }\n",
       "\n",
       "    .dataframe thead th {\n",
       "        text-align: right;\n",
       "    }\n",
       "</style>\n",
       "<table border=\"1\" class=\"dataframe\">\n",
       "  <thead>\n",
       "    <tr style=\"text-align: right;\">\n",
       "      <th></th>\n",
       "      <th>Finland</th>\n",
       "      <th>Denmark</th>\n",
       "      <th>Switzerland</th>\n",
       "      <th>Armenia</th>\n",
       "      <th>Georgia</th>\n",
       "    </tr>\n",
       "  </thead>\n",
       "  <tbody>\n",
       "    <tr>\n",
       "      <th>0</th>\n",
       "      <td>0.781064</td>\n",
       "      <td>0.700757</td>\n",
       "      <td>0.774328</td>\n",
       "      <td>0.701442</td>\n",
       "      <td>0.752586</td>\n",
       "    </tr>\n",
       "  </tbody>\n",
       "</table>\n",
       "</div>"
      ],
      "text/plain": [
       "    Finland   Denmark  Switzerland   Armenia   Georgia\n",
       "0  0.781064  0.700757     0.774328  0.701442  0.752586"
      ]
     },
     "execution_count": 59,
     "metadata": {},
     "output_type": "execute_result"
    }
   ],
   "source": [
    "GS_d=[[GS_1,GS_2,GS_3,GS_4,GS_5]]\n",
    "GS_table=pd.DataFrame(GS_d, columns=['Finland','Denmark','Switzerland','Armenia','Georgia'])\n",
    "print(\"Table of the Global Simplicity\")\n",
    "GS_table"
   ]
  },
  {
   "cell_type": "code",
   "execution_count": 60,
   "id": "e8b0e7f5",
   "metadata": {},
   "outputs": [
    {
     "data": {
      "text/plain": [
       "0.7810637101528597"
      ]
     },
     "execution_count": 60,
     "metadata": {},
     "output_type": "execute_result"
    }
   ],
   "source": [
    "max(GS_1,GS_2,GS_3,GS_4,GS_5)"
   ]
  },
  {
   "cell_type": "markdown",
   "id": "baf6bb58",
   "metadata": {},
   "source": [
    "From calculating global simplicities of each country and finding that Finland has the maximum value of it, we define Finland as the best-matched case and use it to solve the current problem:"
   ]
  },
  {
   "cell_type": "code",
   "execution_count": 61,
   "id": "0c9c0b5d",
   "metadata": {},
   "outputs": [
    {
     "data": {
      "text/html": [
       "<div>\n",
       "<style scoped>\n",
       "    .dataframe tbody tr th:only-of-type {\n",
       "        vertical-align: middle;\n",
       "    }\n",
       "\n",
       "    .dataframe tbody tr th {\n",
       "        vertical-align: top;\n",
       "    }\n",
       "\n",
       "    .dataframe thead th {\n",
       "        text-align: right;\n",
       "    }\n",
       "</style>\n",
       "<table border=\"1\" class=\"dataframe\">\n",
       "  <thead>\n",
       "    <tr style=\"text-align: right;\">\n",
       "      <th></th>\n",
       "      <th>Country or region</th>\n",
       "      <th>Score</th>\n",
       "      <th>GDP per capita</th>\n",
       "      <th>Social support</th>\n",
       "      <th>Healthy life expectancy</th>\n",
       "      <th>Freedom to make life choices</th>\n",
       "      <th>Generosity</th>\n",
       "      <th>Perceptions of corruption</th>\n",
       "      <th>Level of happiness</th>\n",
       "    </tr>\n",
       "  </thead>\n",
       "  <tbody>\n",
       "    <tr>\n",
       "      <th>0</th>\n",
       "      <td>False</td>\n",
       "      <td>False</td>\n",
       "      <td>False</td>\n",
       "      <td>False</td>\n",
       "      <td>False</td>\n",
       "      <td>False</td>\n",
       "      <td>False</td>\n",
       "      <td>False</td>\n",
       "      <td>False</td>\n",
       "    </tr>\n",
       "    <tr>\n",
       "      <th>0</th>\n",
       "      <td>False</td>\n",
       "      <td>False</td>\n",
       "      <td>False</td>\n",
       "      <td>False</td>\n",
       "      <td>False</td>\n",
       "      <td>False</td>\n",
       "      <td>False</td>\n",
       "      <td>False</td>\n",
       "      <td>True</td>\n",
       "    </tr>\n",
       "  </tbody>\n",
       "</table>\n",
       "</div>"
      ],
      "text/plain": [
       "   Country or region  Score  GDP per capita  Social support  \\\n",
       "0              False  False           False           False   \n",
       "0              False  False           False           False   \n",
       "\n",
       "   Healthy life expectancy  Freedom to make life choices  Generosity  \\\n",
       "0                    False                         False       False   \n",
       "0                    False                         False       False   \n",
       "\n",
       "   Perceptions of corruption  Level of happiness  \n",
       "0                      False               False  \n",
       "0                      False                True  "
      ]
     },
     "execution_count": 61,
     "metadata": {},
     "output_type": "execute_result"
    }
   ],
   "source": [
    "frames = [score_1, new_case]\n",
    "result = pd.concat(frames)\n",
    "result=result.drop(columns=['Number'])\n",
    "result.isnull()"
   ]
  },
  {
   "cell_type": "code",
   "execution_count": 62,
   "id": "4beec181",
   "metadata": {},
   "outputs": [
    {
     "data": {
      "text/html": [
       "<div>\n",
       "<style scoped>\n",
       "    .dataframe tbody tr th:only-of-type {\n",
       "        vertical-align: middle;\n",
       "    }\n",
       "\n",
       "    .dataframe tbody tr th {\n",
       "        vertical-align: top;\n",
       "    }\n",
       "\n",
       "    .dataframe thead th {\n",
       "        text-align: right;\n",
       "    }\n",
       "</style>\n",
       "<table border=\"1\" class=\"dataframe\">\n",
       "  <thead>\n",
       "    <tr style=\"text-align: right;\">\n",
       "      <th></th>\n",
       "      <th>Country or region</th>\n",
       "      <th>Score</th>\n",
       "      <th>GDP per capita</th>\n",
       "      <th>Social support</th>\n",
       "      <th>Healthy life expectancy</th>\n",
       "      <th>Freedom to make life choices</th>\n",
       "      <th>Generosity</th>\n",
       "      <th>Perceptions of corruption</th>\n",
       "      <th>Level of happiness</th>\n",
       "    </tr>\n",
       "  </thead>\n",
       "  <tbody>\n",
       "    <tr>\n",
       "      <th>0</th>\n",
       "      <td>Finland</td>\n",
       "      <td>7.809</td>\n",
       "      <td>1.285</td>\n",
       "      <td>1.500</td>\n",
       "      <td>0.961</td>\n",
       "      <td>0.662</td>\n",
       "      <td>0.160</td>\n",
       "      <td>0.478</td>\n",
       "      <td>High</td>\n",
       "    </tr>\n",
       "    <tr>\n",
       "      <th>0</th>\n",
       "      <td>Japan</td>\n",
       "      <td>5.871</td>\n",
       "      <td>1.267</td>\n",
       "      <td>1.332</td>\n",
       "      <td>1.073</td>\n",
       "      <td>0.495</td>\n",
       "      <td>0.036</td>\n",
       "      <td>0.181</td>\n",
       "      <td>High</td>\n",
       "    </tr>\n",
       "  </tbody>\n",
       "</table>\n",
       "</div>"
      ],
      "text/plain": [
       "  Country or region  Score  GDP per capita  Social support  \\\n",
       "0           Finland  7.809           1.285           1.500   \n",
       "0             Japan  5.871           1.267           1.332   \n",
       "\n",
       "   Healthy life expectancy  Freedom to make life choices  Generosity  \\\n",
       "0                    0.961                         0.662       0.160   \n",
       "0                    1.073                         0.495       0.036   \n",
       "\n",
       "   Perceptions of corruption Level of happiness  \n",
       "0                      0.478               High  \n",
       "0                      0.181               High  "
      ]
     },
     "execution_count": 62,
     "metadata": {},
     "output_type": "execute_result"
    }
   ],
   "source": [
    "result.fillna(method ='pad')"
   ]
  },
  {
   "cell_type": "markdown",
   "id": "0d7e95d3",
   "metadata": {},
   "source": [
    "As a result, Japan has a high level of happiness, which was found by using the ``pandas.DataFrame.fillna(method='pad')`` function since the solution of the new case is based on the previous case. Here, Finland has a high level of happiness which is best matched the previous case and since the solution of the new case is similar to the previous one Japan also has a high level."
   ]
  },
  {
   "cell_type": "markdown",
   "id": "1889aa69",
   "metadata": {},
   "source": [
    "# Conclusion"
   ]
  },
  {
   "cell_type": "markdown",
   "id": "8773dff3",
   "metadata": {},
   "source": [
    "In conclusion, while working on this project, working principles and mathematical models of case-based reasoning were described, and different types of it, such as preference-based and conversational CBR, were determined, and hybrid CBR with other ML tools was discussed; the numerical experiment was solved by using CBR. "
   ]
  },
  {
   "cell_type": "markdown",
   "id": "11c48be3",
   "metadata": {},
   "source": [
    "# Reference"
   ]
  },
  {
   "cell_type": "markdown",
   "id": "ea00d337",
   "metadata": {},
   "source": [
    "1. A. Louati, H. Louati, and Z. Li, “Deep learning and case-based reasoning for predictive and Adaptive Traffic Emergency Management,” The Journal of Supercomputing, vol. 77, no. 5, pp. 4389–4418, 2020.\n",
    "\n",
    "2. D. Leake, X. Ye, and D. Crandall, “Supporting Case-Based Reasoning with Neural Networks: An Illustration for Case Adaptation,” CEUR Workshop Proceedings, vol. 2846.\n",
    "\n",
    "3. E. Hüllermeier and P. Schlegel, “Preference-based CBR: First steps toward a methodological framework,” Case-Based Reasoning Research and Development, pp. 77–91, 2011.\n",
    "\n",
    "4. G. Finnie and Z. Sun, “R5 model for case-based reasoning,” Knowledge-Based Systems, vol. 16, no. 1, pp. 59–65, Jan. 2003. DOI:10.1016/S0950-7051(02)00053-9\n",
    "\n",
    "5. J. Han, M. Kamber, and J. Pei, “9 - Classification: Advanced Methods,” in Data Mining (Third Edition), 3rd ed., 2012, pp. 393–442\n",
    "\n",
    "6. M. Gu, A. Aamodt, and X. Tong, “Component retrieval using conversational case-based reasoning,” Intelligent Information Processing II, pp. 259–271.\n",
    "\n",
    "7. M. M. Richter and R. O. Weber, Case-based reasoning: A textbook. Springer, 2013.\n",
    "\n",
    "8. R. Bergman, K.-D. Althoff, M. Minor, M. Reichle, and K. Bach, “Case-Based Reasoning - Introduction and Recent Developments,” Künstliche Intelligenz, vol. 1/2009, pp. 5–11, 2009."
   ]
  }
 ],
 "metadata": {
  "kernelspec": {
   "display_name": "Python 3",
   "language": "python",
   "name": "python3"
  },
  "language_info": {
   "codemirror_mode": {
    "name": "ipython",
    "version": 3
   },
   "file_extension": ".py",
   "mimetype": "text/x-python",
   "name": "python",
   "nbconvert_exporter": "python",
   "pygments_lexer": "ipython3",
   "version": "3.8.8"
  }
 },
 "nbformat": 4,
 "nbformat_minor": 5
}
